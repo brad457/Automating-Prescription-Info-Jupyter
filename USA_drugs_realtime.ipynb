{
 "cells": [
  {
   "cell_type": "code",
   "execution_count": 1,
   "metadata": {},
   "outputs": [],
   "source": [
    "from selenium import webdriver\n",
    "from webdriver_manager.chrome import ChromeDriverManager\n",
    "from selenium.webdriver.common.keys import Keys\n",
    "import time"
   ]
  },
  {
   "cell_type": "markdown",
   "metadata": {},
   "source": [
    "# GoodRx"
   ]
  },
  {
   "cell_type": "code",
   "execution_count": 5,
   "metadata": {},
   "outputs": [],
   "source": [
    "def GoodRx(name):\n",
    "    driver.get('https://www.goodrx.com/')\n",
    "    time.sleep(1)\n",
    "\n",
    "    search_box = driver.find_element_by_css_selector(\"input[data-qa ='search-inp']\")\n",
    "    driver.execute_script(\"arguments[0].click();\", search_box)\n",
    "\n",
    "    search_box.send_keys(name)\n",
    "    time.sleep(2)\n",
    "\n",
    "    search_box.send_keys(Keys.RETURN)\n",
    "    time.sleep(5)\n",
    "\n",
    "    print(driver.current_url, \"\\n\")\n",
    "\n",
    "    drug = driver.find_element_by_id('uat-drug-title').text + \" \" + driver.find_element_by_id('uat-drug-alternatives').text\n",
    "    print(drug)\n",
    "\n",
    "    dosage = driver.find_element_by_id('uat-dropdown-dosage').text\n",
    "    quantity = driver.find_element_by_id('uat-dropdown-quantity').text\n",
    "    print(dosage + \", \" + quantity,\"\\n\")\n",
    "\n",
    "    cards = driver.find_elements_by_css_selector(\"li[data-qa ='price_row']\")\n",
    "\n",
    "    min_cost = 10000; max_cost = 0; min_pharm = None; max_pharm = None\n",
    "\n",
    "    try:\n",
    "        for card in cards:\n",
    "            cost = card.find_element_by_css_selector(\"div[data-qa ='drug_price']\").text.split(\"\\n\")[1]\n",
    "            cost = float(cost.split(\"$\")[1])\n",
    "            if cost < min_cost:\n",
    "                min_cost = cost\n",
    "                min_pharm = card.find_element_by_class_name('goldAddUnderline-3T_sh').text\n",
    "            if cost > max_cost:\n",
    "                max_cost = cost\n",
    "                max_pharm = card.find_element_by_class_name('goldAddUnderline-3T_sh').text\n",
    "\n",
    "        min_cost = \"$\" + str(min_cost)\n",
    "        max_cost = \"$\" + str(max_cost)\n",
    "\n",
    "        print(\"Minimum Price at : \", min_pharm , \"- \", min_cost)\n",
    "\n",
    "        print(\"Highest Price at : \", max_pharm, \"- \", max_cost)\n",
    "    except:\n",
    "        print(\"No Results Found!\")"
   ]
  },
  {
   "cell_type": "markdown",
   "metadata": {},
   "source": [
    "# SingleCare"
   ]
  },
  {
   "cell_type": "code",
   "execution_count": 6,
   "metadata": {},
   "outputs": [],
   "source": [
    "def SingleCare(name):\n",
    "    driver.get('https://www.singlecare.com/')\n",
    "\n",
    "    search_box = driver.find_element_by_id('searchbar')\n",
    "    search_box.send_keys(name)\n",
    "    time.sleep(2)\n",
    "    search_button = driver.find_element_by_css_selector('button.search-btn.sc-outline-btn--cool-gray')\n",
    "    driver.execute_script('arguments[0].click();', search_button)\n",
    "    time.sleep(10)\n",
    "\n",
    "    drug = driver.find_element_by_id('drug-name-headline').text.split(\"\\n\")[0]\n",
    "    print(drug)\n",
    "\n",
    "    dosage = driver.find_element_by_class_name('thirdSelect').text\n",
    "    quantity = driver.find_element_by_class_name('fourthSelect').text\n",
    "\n",
    "    print(dosage, quantity)\n",
    "\n",
    "    min_cost = 10000; max_cost = 0; min_pharm = None; max_pharm = None\n",
    "\n",
    "    try:\n",
    "        cards = driver.find_elements_by_css_selector(\"div.pharmacy-item__5off.pharmacy-item\")\n",
    "        for card in cards:\n",
    "            cost = float(card.find_element_by_class_name('pharmacy-item__price').text.split(\"\\n\")[1])\n",
    "            if cost < min_cost:\n",
    "                min_cost = cost\n",
    "                min_pharm = card.find_element_by_class_name('pharmacy-item__name').get_attribute('data-name')\n",
    "            if cost > max_cost:\n",
    "                max_cost = cost\n",
    "                max_pharm = card.find_element_by_class_name('pharmacy-item__name').get_attribute('data-name')\n",
    "        min_cost = \"$\" + str(min_cost)\n",
    "        max_cost = \"$\" + str(max_cost)\n",
    "\n",
    "        print(\"Minimum Price at : \", min_pharm , \"- \", min_cost)\n",
    "\n",
    "        print(\"Highest Price at : \", max_pharm, \"- \", max_cost)\n",
    "    except:\n",
    "        print('No Results Found!')"
   ]
  },
  {
   "cell_type": "markdown",
   "metadata": {},
   "source": [
    "# Riteaid"
   ]
  },
  {
   "cell_type": "code",
   "execution_count": 7,
   "metadata": {},
   "outputs": [],
   "source": [
    "def Riteaid(name):\n",
    "    driver.get('https://www.riteaid.com/shop/catalogsearch/result/?q=Minoxidil')\n",
    "\n",
    "    search_box = driver.find_element_by_id('cx-header-menu-search-textbox')\n",
    "    search_box.send_keys(name)\n",
    "    time.sleep(2)\n",
    "\n",
    "    search_box.send_keys(Keys.RETURN)\n",
    "    time.sleep(5)\n",
    "\n",
    "    min_cost = 10000; max_cost = 0; min_pharm = None; max_pharm = None\n",
    "\n",
    "    try:\n",
    "        cards = driver.find_elements_by_class_name('rfk_product')\n",
    "\n",
    "        for card in cards:\n",
    "            cost = float(card.find_element_by_class_name('final-price').text.split(\"$\")[1])\n",
    "\n",
    "            if cost < min_cost:\n",
    "                    min_cost = cost\n",
    "                    min_pharm = card.find_element_by_class_name('rfk_name').text\n",
    "            if cost > max_cost:\n",
    "                max_cost = cost\n",
    "                max_pharm = card.find_element_by_class_name('rfk_name').text\n",
    "\n",
    "        min_cost = \"$\" + str(min_cost)\n",
    "        max_cost = \"$\" + str(max_cost)\n",
    "\n",
    "        print(\"Minimum Price at : \", min_pharm , \"- \", min_cost)\n",
    "\n",
    "        print(\"Highest Price at : \", max_pharm, \"- \", max_cost)\n",
    "    except:\n",
    "        print(\"No results Found!\")"
   ]
  },
  {
   "cell_type": "code",
   "execution_count": 2,
   "metadata": {},
   "outputs": [
    {
     "name": "stderr",
     "output_type": "stream",
     "text": [
      "\n",
      "\n",
      "====== WebDriver manager ======\n",
      "Current google-chrome version is 96.0.4664\n",
      "Get LATEST driver version for 96.0.4664\n",
      "Get LATEST driver version for 96.0.4664\n",
      "Trying to download new driver from https://chromedriver.storage.googleapis.com/96.0.4664.45/chromedriver_win32.zip\n",
      "Driver has been saved in cache [C:\\Users\\RaKmO\\.wdm\\drivers\\chromedriver\\win32\\96.0.4664.45]\n"
     ]
    }
   ],
   "source": [
    "options = webdriver.ChromeOptions()\n",
    "options.add_argument('--disable-blink-features=AutomationControlled')\n",
    "driver = webdriver.Chrome(ChromeDriverManager().install(), options=options)\n",
    "driver.maximize_window()"
   ]
  },
  {
   "cell_type": "code",
   "execution_count": 3,
   "metadata": {},
   "outputs": [],
   "source": [
    "name = input(\"Enter the drug name : \")\n",
    "if len(name) == 0:\n",
    "    name = \"Minoxidil\""
   ]
  },
  {
   "cell_type": "code",
   "execution_count": 8,
   "metadata": {},
   "outputs": [
    {
     "name": "stdout",
     "output_type": "stream",
     "text": [
      "https://www.goodrx.com/minoxidil-non-prescription \n",
      "\n",
      "Minoxidil Non-Prescription Generic Men's Rogaine, Women's Rogaine\n",
      "60ml of 5%, 1 bottle \n",
      "\n",
      "Minimum Price at :  Walmart -  $10.99\n",
      "Highest Price at :  Costco -  $16.98\n"
     ]
    }
   ],
   "source": [
    "GoodRx(name)"
   ]
  },
  {
   "cell_type": "markdown",
   "metadata": {},
   "source": [
    "### PS: This website sometimes has a captcha. Solve it manually the first time and then use the script "
   ]
  },
  {
   "cell_type": "code",
   "execution_count": 11,
   "metadata": {},
   "outputs": [
    {
     "name": "stdout",
     "output_type": "stream",
     "text": [
      "Minoxidil Coupons & Prices\n",
      "2.5mg 60 count\n",
      "Minimum Price at :  walmart pharmacy -  $4.19\n",
      "Highest Price at :  geniusrx -  $36.29\n"
     ]
    }
   ],
   "source": [
    "SingleCare(name)"
   ]
  },
  {
   "cell_type": "code",
   "execution_count": 12,
   "metadata": {},
   "outputs": [
    {
     "name": "stdout",
     "output_type": "stream",
     "text": [
      "Minimum Price at :  Daylogic Minoxidil Topical Hair Regrowth Liquid Solution for Men - 2 fl oz -  $13.99\n",
      "Highest Price at :  Rogain Women's 2% Minoxidil Topical Solution, 2 fl oz , 3 Pack -  $44.99\n"
     ]
    }
   ],
   "source": [
    "Riteaid(name)"
   ]
  }
 ],
 "metadata": {
  "interpreter": {
   "hash": "e33ec51ada7aa491176ce994ab96989bced684998182f856a7c8fbea805d8252"
  },
  "kernelspec": {
   "display_name": "Python 3.7.9 64-bit",
   "language": "python",
   "name": "python3"
  },
  "language_info": {
   "codemirror_mode": {
    "name": "ipython",
    "version": 3
   },
   "file_extension": ".py",
   "mimetype": "text/x-python",
   "name": "python",
   "nbconvert_exporter": "python",
   "pygments_lexer": "ipython3",
   "version": "3.7.9"
  },
  "orig_nbformat": 4
 },
 "nbformat": 4,
 "nbformat_minor": 2
}
