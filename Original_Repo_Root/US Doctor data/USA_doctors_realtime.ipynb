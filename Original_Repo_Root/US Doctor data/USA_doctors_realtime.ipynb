{
 "cells": [
  {
   "cell_type": "code",
   "execution_count": 1,
   "metadata": {},
   "outputs": [],
   "source": [
    "from selenium import webdriver\n",
    "from webdriver_manager.chrome import ChromeDriverManager\n",
    "from selenium.webdriver.common.keys import Keys\n",
    "import time"
   ]
  },
  {
   "cell_type": "code",
   "execution_count": 33,
   "metadata": {},
   "outputs": [
    {
     "name": "stderr",
     "output_type": "stream",
     "text": [
      "\n",
      "\n",
      "====== WebDriver manager ======\n",
      "Current google-chrome version is 96.0.4664\n",
      "Get LATEST driver version for 96.0.4664\n",
      "Driver [C:\\Users\\RaKmO\\.wdm\\drivers\\chromedriver\\win32\\96.0.4664.45\\chromedriver.exe] found in cache\n"
     ]
    }
   ],
   "source": [
    "options = webdriver.ChromeOptions()\n",
    "options.add_argument('--disable-blink-features=AutomationControlled')\n",
    "driver = webdriver.Chrome(ChromeDriverManager().install(), options=options)\n",
    "driver.maximize_window()"
   ]
  },
  {
   "cell_type": "markdown",
   "metadata": {},
   "source": [
    "# Zocdoc"
   ]
  },
  {
   "cell_type": "code",
   "execution_count": 77,
   "metadata": {},
   "outputs": [],
   "source": [
    "name = input('Enter Name : ')\n",
    "if len(name) == 0:\n",
    "    name = \"Ruth Johnson\"\n",
    "location = input('Enter Location : ')\n",
    "if len(location) == 0:\n",
    "    location = \"New York\"\n",
    "\n",
    "print(\"Searching For\", name, \" in \", location, \"From ZocDoc \")\n",
    "\n",
    "driver.get('https://www.zocdoc.com/')\n",
    "\n",
    "location_box = driver.find_element_by_css_selector(\"input[name ='location-picker-input']\")\n",
    "\n",
    "driver.execute_script(\"arguments[0].clear;\", location_box)\n",
    "time.sleep(1)\n",
    "\n",
    "location_box.send_keys(location)\n",
    "time.sleep(1)\n",
    "location_box.send_keys(Keys.DOWN)\n",
    "time.sleep(1)\n",
    "location_box.send_keys(Keys.RETURN)\n",
    "time.sleep(1)\n",
    "\n",
    "search_box = driver.find_element_by_css_selector(\"input[name ='patient-powered-search-input']\")\n",
    "search_box.send_keys(name)\n",
    "time.sleep(2)\n",
    "\n",
    "option = driver.find_element_by_css_selector(\"div[data-test = 'provider-item-row-0']\").text.split(\"\\n\")[0]\n",
    "if option == name.capitalize():\n",
    "    driver.execute_script(\"arguments[0].click();\", option)\n",
    "else:\n",
    "    search_box.send_keys(Keys.RETURN)\n",
    "\n",
    "time.sleep(5)\n",
    "\n",
    "try:\n",
    "    doc_name = driver.find_element_by_css_selector(\"span[data-uem-id ='provider-name']\").text\n",
    "    print(doc_name)\n",
    "    try:\n",
    "        ratings = driver.find_element_by_css_selector('div.sc-1051vqm-1.cjMcrn').text\n",
    "    except:\n",
    "        ratings = \"No Ratings\"\n",
    "    print(ratings)\n",
    "    print(driver.current_url)\n",
    "except:\n",
    "    try:\n",
    "        cards = driver.find_elements_by_css_selector(\"article[data-test ='search-result-item']\")\n",
    "        for card in cards:\n",
    "            print(card.find_elements_by_css_selector(\"a[data-test ='doctor-card-info-name']\")[0].text)\n",
    "            print(card.find_elements_by_css_selector(\"a[data-test ='doctor-card-info-name']\")[0].get_attribute(\"href\"))\n",
    "            print(card.find_elements_by_css_selector(\"div[data-test ='doctor-card-info-rating']\")[0].text.split(\"\\n\")[0],\"\\n\")\n",
    "    except:\n",
    "        print(\"No Results Found!\")\n",
    "\n",
    "print(\"-------------------------------------------------------------------------------------------------\\n\")"
   ]
  },
  {
   "cell_type": "markdown",
   "metadata": {},
   "source": [
    "# Health.USNews"
   ]
  },
  {
   "cell_type": "code",
   "execution_count": 78,
   "metadata": {},
   "outputs": [],
   "source": [
    "location = input(\"Enter the Location : \")\n",
    "if len(location) == 0:\n",
    "    location = \"\"\n",
    "\n",
    "name = input(\"Enter Doctor Name/Speciality : \")\n",
    "if len(name) == 0:\n",
    "    name = \"Mark Aaron\"\n",
    "\n",
    "print(\"Searching For\", name, \" in \", location, \"From Health.US News \")\n",
    "\n",
    "link='https://health.usnews.com/doctors/search?specialty=&location='+ str(location) + '&name=' + str(name)\n",
    "driver.get(link)\n",
    "\n",
    "cards = driver.find_elements_by_css_selector(\"li.item-list__ListItemStyled-sc-18yjqdy-1.dmeMrJ\")\n",
    "for card in cards:\n",
    "    try:\n",
    "        doc_name = card.find_element_by_class_name(\"DetailCardDoctor__TitleWrapper-dno04z-8\").text.split(\"\\n\")\n",
    "        print(doc_name[0])\n",
    "        try:\n",
    "            driver.find_element_by_class_name(\"Rating__IconSvg-sc-1naeqqj-1\")\n",
    "            stars = cards[1].find_elements_by_class_name(\"Rating__IconSvg-sc-1naeqqj-1\")\n",
    "            rating = 0\n",
    "            for star in stars:\n",
    "                if star.get_attribute(\"fill\") != \"white\":\n",
    "                    rating += 1\n",
    "        except:\n",
    "            rating = \"No Ratings\"\n",
    "        \n",
    "        print(\"Rating : \", rating, \"Stars\", doc_name[1], \"\\n\")\n",
    "    except:\n",
    "        continue\n",
    "\n",
    "print(\"--------------------------------------------------------------------------------\\n\")"
   ]
  },
  {
   "cell_type": "markdown",
   "metadata": {},
   "source": [
    "# Vitals"
   ]
  },
  {
   "cell_type": "code",
   "execution_count": 102,
   "metadata": {},
   "outputs": [],
   "source": [
    "name = input('Enter Name or Speciality:- ')\n",
    "if len(name) == 0:\n",
    "    name = \"Pedro Sierra\"\n",
    "\n",
    "location = input('Enter location :- ')\n",
    "if len(location) == 0:\n",
    "    location = \"New York, NY\"\n",
    "\n",
    "print(\"Searching For\", name, \" in \", location, \"From Vitals \")\n",
    "\n",
    "driver.get('https://www.vitals.com/')\n",
    "\n",
    "location_box = driver.find_elements_by_class_name('webmd-input__inner')[1]\n",
    "location_box.clear()\n",
    "location_box.send_keys(location)\n",
    "time.sleep(1)\n",
    "\n",
    "search_box = driver.find_elements_by_class_name('webmd-input__inner')[0]\n",
    "search_box.clear()\n",
    "search_box.send_keys(name)\n",
    "time.sleep(1)\n",
    "search_box.send_keys(Keys.RETURN)\n",
    "time.sleep(3)\n",
    "\n",
    "cards = driver.find_elements_by_class_name('provider-card')\n",
    "for card in cards:\n",
    "    doc_name = card.find_element_by_class_name('webmd-card__header').text\n",
    "    print(doc_name)\n",
    "    try:\n",
    "        rating = driver.find_element_by_class_name('rating-value').text\n",
    "    except:\n",
    "        rating = \"No Rating\"\n",
    "    print(rating)\n",
    "    print()\n",
    "\n",
    "print(\"--------------------------------------------------------------------------------\\n\")"
   ]
  },
  {
   "cell_type": "markdown",
   "metadata": {},
   "source": [
    "# Healthgrades"
   ]
  },
  {
   "cell_type": "code",
   "execution_count": 113,
   "metadata": {},
   "outputs": [],
   "source": [
    "name = input('Enter Name or Speciality:- ')\n",
    "if len(name) == 0:\n",
    "    name = \"Omer Tipu\"\n",
    "\n",
    "location = input('Enter location :- ')\n",
    "if len(location) == 0:\n",
    "    location = \"New York\"\n",
    "\n",
    "print(\"Searching For\", name, \" in \", location, \"From Healthgrades\")\n",
    "\n",
    "driver.get('https://www.healthgrades.com/find-a-doctor')\n",
    "\n",
    "clear_button = driver.find_element_by_css_selector(\"button[data-qa-target ='location-input-clear']\")\n",
    "driver.execute_script(\"arguments[0].click();\", clear_button)\n",
    "\n",
    "location_box = driver.find_element_by_css_selector(\"input[name ='location-input-group']\")\n",
    "location_box.send_keys(location)\n",
    "time.sleep(1)\n",
    "\n",
    "location_box.send_keys(Keys.DOWN)\n",
    "time.sleep(1)\n",
    "\n",
    "search_box = driver.find_element_by_css_selector(\"input[name ='term-input-group']\")\n",
    "search_box.send_keys(name)\n",
    "time.sleep(1)\n",
    "search_box.send_keys(Keys.RETURN)\n",
    "time.sleep(3)\n",
    "\n",
    "print(\"Here are the top results\\n\")\n",
    "\n",
    "cards = driver.find_elements_by_class_name(\"search-card\")\n",
    "\n",
    "for card in cards:\n",
    "    doc_name = card.find_element_by_class_name('provider-name__lnk').text\n",
    "    link = card.find_element_by_class_name('provider-name__lnk').get_attribute(\"href\")\n",
    "    spec = card.find_element_by_class_name('provider-details__specialty').text\n",
    "\n",
    "    try:\n",
    "        rating = card.find_element_by_class_name('rating-stars__rating-stars').get_attribute(\"data-qa-target\")\n",
    "        rating = rating.split(\"--\")[1]\n",
    "    except:\n",
    "        rating = \"No rating!\"\n",
    "    \n",
    "    print(doc_name)\n",
    "    print(spec)\n",
    "    print(rating)\n",
    "    print(link)\n",
    "\n",
    "print(\"--------------------------------------------------------------------------------\\n\")"
   ]
  }
 ],
 "metadata": {
  "interpreter": {
   "hash": "e33ec51ada7aa491176ce994ab96989bced684998182f856a7c8fbea805d8252"
  },
  "kernelspec": {
   "display_name": "Python 3 (ipykernel)",
   "language": "python",
   "name": "python3"
  },
  "language_info": {
   "codemirror_mode": {
    "name": "ipython",
    "version": 3
   },
   "file_extension": ".py",
   "mimetype": "text/x-python",
   "name": "python",
   "nbconvert_exporter": "python",
   "pygments_lexer": "ipython3",
   "version": "3.9.6"
  }
 },
 "nbformat": 4,
 "nbformat_minor": 4
}
